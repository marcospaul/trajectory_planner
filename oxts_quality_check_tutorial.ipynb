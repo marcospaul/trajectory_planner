{
 "cells": [
  {
   "cell_type": "markdown",
   "metadata": {},
   "source": [
    "# Advanced Trajectory Analysis Tutorial\n",
    "\n",
    "This notebook provides a comprehensive tutorial on using the trajectory analysis tools for detecting anomalies and evaluating quality in trajectory data. It demonstrates batch processing across multiple directories as well as detailed analysis of individual trajectories.\n",
    "\n",
    "## Overview\n",
    "\n",
    "This tutorial covers:\n",
    "1. Batch processing of multiple directories\n",
    "2. Multi-level quality summary reports\n",
    "3. Detailed trajectory statistics and visualizations\n",
    "4. Advanced anomaly detection and analysis\n",
    "5. Comprehensive visualizations of position, velocity, and acceleration data\n",
    "\n",
    "Let's begin by checking and installing the required dependencies."
   ]
  },
  {
   "cell_type": "code",
   "execution_count": null,
   "metadata": {},
   "outputs": [],
   "source": [
    "# Import and initialize our helper class\n",
    "import sys\n",
    "import os\n",
    "from pathlib import Path\n",
    "\n",
    "# Add parent directory to path if needed\n",
    "module_path = Path(os.getcwd()).parent\n",
    "if str(module_path) not in sys.path:\n",
    "    sys.path.append(str(module_path))\n",
    "\n",
    "# Import our helper classes\n",
    "from trajectory_tutorial_helpers import TrajectoryAnalysisHelpers, ConfigLoader\n",
    "\n",
    "# Check and install dependencies\n",
    "TrajectoryAnalysisHelpers.check_and_install_dependencies()"
   ]
  },
  {
   "cell_type": "markdown",
   "metadata": {},
   "source": [
    "## Initialize Analysis Environment\n",
    "\n",
    "Now we'll initialize our analysis environment, load configuration settings, and create the analyzer:"
   ]
  },
  {
   "cell_type": "code",
   "execution_count": null,
   "metadata": {},
   "outputs": [],
   "source": [
    "# Initialize the analysis environment\n",
    "config, analyzer = TrajectoryAnalysisHelpers.initialize_analysis(\"trajectory_config.yaml\")"
   ]
  },
  {
   "cell_type": "markdown",
   "metadata": {},
   "source": [
    "## Analyze Trajectories\n",
    "\n",
    "Next, we'll analyze all directories and generate comprehensive reports:"
   ]
  },
  {
   "cell_type": "code",
   "execution_count": null,
   "metadata": {},
   "outputs": [],
   "source": [
    "# Process all directories and generate reports\n",
    "all_results = TrajectoryAnalysisHelpers.process_all_directories(config, analyzer)"
   ]
  },
  {
   "cell_type": "markdown",
   "metadata": {},
   "source": [
    "## Machine Learning Analysis\n",
    "\n",
    "Next, we'll perform machine learning analysis to identify patterns across trajectories:"
   ]
  },
  {
   "cell_type": "code",
   "execution_count": null,
   "metadata": {},
   "outputs": [],
   "source": [
    "# Run machine learning analysis\n",
    "ml_results = TrajectoryAnalysisHelpers.run_ml_analysis(all_results, config)"
   ]
  },
  {
   "cell_type": "markdown",
   "metadata": {},
   "source": [
    "## Generate Comprehensive Report\n",
    "\n",
    "Finally, let's generate a detailed PDF report with all our findings, including AI-generated insights:"
   ]
  },
  {
   "cell_type": "code",
   "execution_count": null,
   "metadata": {},
   "outputs": [],
   "source": [
    "# Generate a comprehensive report\n",
    "report_path = TrajectoryAnalysisHelpers.generate_analysis_report(\n",
    "    config=config,\n",
    "    all_results=all_results,\n",
    "    ml_results=ml_results,\n",
    "    output_path=\"trajectory_analysis_report_v2.pdf\"  # Will fallback to HTML if PDF generation isn't possible\n",
    ")\n",
    "\n",
    "print(f\"\\nComprehensive report has been generated and saved to: {report_path}\")\n",
    "\n",
    "# If it's an HTML file, provide a way to display it in the notebook\n",
    "if report_path.endswith('.html'):\n",
    "    from IPython.display import IFrame\n",
    "    print(\"Displaying HTML report:\")\n",
    "    display(IFrame(report_path, width=900, height=600))"
   ]
  },
  {
   "cell_type": "markdown",
   "metadata": {},
   "source": [
    "## Summary and Conclusions\n",
    "\n",
    "This notebook has demonstrated comprehensive analysis of trajectory data using the trajectory analysis tools. We've seen how to:\n",
    "\n",
    "1. Perform batch processing across multiple directories\n",
    "2. Generate summary reports for quality assessment\n",
    "3. Analyze individual trajectories in detail\n",
    "4. Visualize position, velocity, and acceleration components\n",
    "5. Detect and analyze anomalies in the trajectories\n",
    "6. Apply machine learning for cross-trajectory analysis\n",
    "7. Generate a comprehensive PDF report with findings and AI-generated insights\n",
    "\n",
    "The generated report provides a complete overview of the trajectory data quality, identifies anomalies, and offers recommendations based on the analysis results. It includes visualizations, statistical summaries, and AI-generated insights to help you understand your data better.\n",
    "\n",
    "### Using the Command-Line Interface\n",
    "\n",
    "For batch processing without the notebook, you can use the command-line interface provided in the `trajectory_tutorial_helpers.py` module:\n",
    "\n",
    "```bash\n",
    "python trajectory_tutorial_helpers.py --config trajectory_config.yaml --output results\n",
    "```\n",
    "\n",
    "This will process all directories specified in the configuration file and save the results to the specified output directory.\n",
    "\n",
    "### Customizing the Analysis\n",
    "\n",
    "For further customization, edit the `trajectory_config.yaml` file to:\n",
    "1. Change the analyzer parameters\n",
    "2. Add or remove directories to analyze\n",
    "3. Adjust the maximum number of files to analyze per directory\n",
    "4. Enable or disable machine learning analysis\n",
    "5. Modify visualization settings\n",
    "\n",
    "The modular design of these tools makes it easy to extend and adapt them to your specific requirements."
   ]
  }
 ],
 "metadata": {
  "kernelspec": {
   "display_name": "Python 3 (ipykernel)",
   "language": "python",
   "name": "python3"
  },
  "language_info": {
   "codemirror_mode": {
    "name": "ipython",
    "version": 3
   },
   "file_extension": ".py",
   "mimetype": "text/x-python",
   "name": "python",
   "nbconvert_exporter": "python",
   "pygments_lexer": "ipython3",
   "version": "3.9.6"
  }
 },
 "nbformat": 4,
 "nbformat_minor": 4
}
